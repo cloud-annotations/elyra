{
 "cells": [
  {
   "cell_type": "markdown",
   "metadata": {
    "tags": [
     "papermill-error-cell-tag"
    ]
   },
   "source": [
    "<span style=\"color:red; font-family:Helvetica Neue, Helvetica, Arial, sans-serif; font-size:2em;\">An Exception was encountered at '<a href=\"#papermill-error-cell\">In [3]</a>'.</span>"
   ]
  },
  {
   "cell_type": "markdown",
   "metadata": {
    "id": "TZSL793i7KuM",
    "papermill": {
     "duration": 0.009654,
     "end_time": "2020-10-29T02:57:17.641485",
     "exception": false,
     "start_time": "2020-10-29T02:57:17.631831",
     "status": "completed"
    },
    "tags": []
   },
   "source": [
    "# Setup\n"
   ]
  },
  {
   "cell_type": "code",
   "execution_count": 1,
   "metadata": {
    "execution": {
     "iopub.execute_input": "2020-10-29T02:57:17.661882Z",
     "iopub.status.busy": "2020-10-29T02:57:17.661211Z",
     "iopub.status.idle": "2020-10-29T02:57:17.663935Z",
     "shell.execute_reply": "2020-10-29T02:57:17.663375Z"
    },
    "id": "GmloKE6Qx8Lu",
    "papermill": {
     "duration": 0.0153,
     "end_time": "2020-10-29T02:57:17.664186",
     "exception": false,
     "start_time": "2020-10-29T02:57:17.648886",
     "status": "completed"
    },
    "tags": []
   },
   "outputs": [],
   "source": [
    "credentials = {\n",
    "    \"bucket\": \"BUCKET\",\n",
    "    \"access_key_id\": \"ACCESS_KEY_ID\",\n",
    "    \"secret_access_key\": \"SECRET_ACCESS_KEY\",\n",
    "    \"endpoint_url\": \"ENDPOINT_URL\"\n",
    "}"
   ]
  },
  {
   "cell_type": "code",
   "execution_count": 2,
   "metadata": {
    "execution": {
     "iopub.execute_input": "2020-10-29T02:57:17.686075Z",
     "iopub.status.busy": "2020-10-29T02:57:17.685360Z",
     "iopub.status.idle": "2020-10-29T02:57:17.687547Z",
     "shell.execute_reply": "2020-10-29T02:57:17.688015Z"
    },
    "id": "hVPzEKoLuEHy",
    "papermill": {
     "duration": 0.017156,
     "end_time": "2020-10-29T02:57:17.688252",
     "exception": false,
     "start_time": "2020-10-29T02:57:17.671096",
     "status": "completed"
    },
    "tags": []
   },
   "outputs": [],
   "source": [
    "NUM_TRAIN_STEPS = 500\n",
    "\n",
    "import os\n",
    "CLOUD_ANNOTATIONS_MOUNT = os.path.join('content', credentials['bucket'])\n",
    "ANNOTATIONS_JSON_PATH   = os.path.join(CLOUD_ANNOTATIONS_MOUNT, '_annotations.json')\n",
    "\n",
    "DATA_PATH         = 'content/data'\n",
    "LABEL_MAP_PATH    = os.path.join(DATA_PATH, 'label_map.pbtxt')\n",
    "TRAIN_RECORD_PATH = os.path.join(DATA_PATH, 'train.record')\n",
    "VAL_RECORD_PATH   = os.path.join(DATA_PATH, 'val.record')"
   ]
  },
  {
   "cell_type": "markdown",
   "metadata": {
    "id": "3XINCKkPshgz",
    "papermill": {
     "duration": 0.005882,
     "end_time": "2020-10-29T02:57:17.700318",
     "exception": false,
     "start_time": "2020-10-29T02:57:17.694436",
     "status": "completed"
    },
    "tags": []
   },
   "source": [
    "# Install the TensorFlow Object Detection API\n",
    "In order to use the TensorFlow Object Detection API, we need to clone it's GitHub Repo.\n",
    "\n",
    "### Dependencies\n",
    "Most of the dependencies required come preloaded in Google Colab. The only additional package we need to install is TensorFlow.js, which is used for converting our trained model to a model that is compatible for the web.\n",
    "\n",
    "### Protocol Buffers\n",
    "The TensorFlow Object Detection API relies on what are called `protocol buffers` (also known as `protobufs`). Protobufs are a language neutral way to describe information. That means you can write a protobuf once and then compile it to be used with other languages, like Python, Java or C.\n",
    "\n",
    "The `protoc` command used below is compiling all the protocol buffers in the `object_detection/protos` folder for Python.\n",
    "\n",
    "### Environment\n",
    "To use the object detection api we need to add it to our `PYTHONPATH` along with `slim` which contains code for training and evaluating several widely used Convolutional Neural Network (CNN) image classification models."
   ]
  },
  {
   "cell_type": "markdown",
   "metadata": {
    "tags": [
     "papermill-error-cell-tag"
    ]
   },
   "source": [
    "<span id=\"papermill-error-cell\" style=\"color:red; font-family:Helvetica Neue, Helvetica, Arial, sans-serif; font-size:2em;\">Execution using papermill encountered an exception here and stopped:</span>"
   ]
  },
  {
   "cell_type": "code",
   "execution_count": 3,
   "metadata": {
    "execution": {
     "iopub.execute_input": "2020-10-29T02:57:17.727927Z",
     "iopub.status.busy": "2020-10-29T02:57:17.727132Z",
     "iopub.status.idle": "2020-10-29T02:57:23.193964Z",
     "shell.execute_reply": "2020-10-29T02:57:23.195196Z"
    },
    "id": "o33_jgwGm3NV",
    "papermill": {
     "duration": 5.489585,
     "end_time": "2020-10-29T02:57:23.195709",
     "exception": true,
     "start_time": "2020-10-29T02:57:17.706124",
     "status": "failed"
    },
    "tags": []
   },
   "outputs": [
    {
     "name": "stdout",
     "output_type": "stream",
     "text": [
      "Cloning into 'models'...\r\n"
     ]
    },
    {
     "name": "stdout",
     "output_type": "stream",
     "text": [
      "remote: Enumerating objects: 2280, done.\u001b[K\r\n",
      "remote: Counting objects:   0% (1/2280)\u001b[K\r"
     ]
    },
    {
     "name": "stdout",
     "output_type": "stream",
     "text": [
      "remote: Counting objects:   1% (23/2280)\u001b[K\r",
      "remote: Counting objects:   2% (46/2280)\u001b[K\r",
      "remote: Counting objects:   3% (69/2280)\u001b[K\r",
      "remote: Counting objects:   4% (92/2280)\u001b[K\r",
      "remote: Counting objects:   5% (114/2280)\u001b[K\r",
      "remote: Counting objects:   6% (137/2280)\u001b[K\r",
      "remote: Counting objects:   7% (160/2280)\u001b[K\r",
      "remote: Counting objects:   8% (183/2280)\u001b[K\r",
      "remote: Counting objects:   9% (206/2280)\u001b[K\r",
      "remote: Counting objects:  10% (228/2280)\u001b[K\r",
      "remote: Counting objects:  11% (251/2280)\u001b[K\r",
      "remote: Counting objects:  12% (274/2280)\u001b[K\r",
      "remote: Counting objects:  13% (297/2280)\u001b[K\r",
      "remote: Counting objects:  14% (320/2280)\u001b[K\r",
      "remote: Counting objects:  15% (342/2280)\u001b[K\r",
      "remote: Counting objects:  16% (365/2280)\u001b[K\r",
      "remote: Counting objects:  17% (388/2280)\u001b[K\r",
      "remote: Counting objects:  18% (411/2280)\u001b[K\r",
      "remote: Counting objects:  19% (434/2280)\u001b[K\r",
      "remote: Counting objects:  20% (456/2280)\u001b[K\r",
      "remote: Counting objects:  21% (479/2280)\u001b[K\r",
      "remote: Counting objects:  22% (502/2280)\u001b[K\r",
      "remote: Counting objects:  23% (525/2280)\u001b[K\r",
      "remote: Counting objects:  24% (548/2280)\u001b[K\r",
      "remote: Counting objects:  25% (570/2280)\u001b[K\r",
      "remote: Counting objects:  26% (593/2280)\u001b[K\r",
      "remote: Counting objects:  27% (616/2280)\u001b[K\r",
      "remote: Counting objects:  28% (639/2280)\u001b[K\r",
      "remote: Counting objects:  29% (662/2280)\u001b[K\r",
      "remote: Counting objects:  30% (684/2280)\u001b[K\r",
      "remote: Counting objects:  31% (707/2280)\u001b[K\r",
      "remote: Counting objects:  32% (730/2280)\u001b[K\r",
      "remote: Counting objects:  33% (753/2280)\u001b[K\r",
      "remote: Counting objects:  34% (776/2280)\u001b[K\r",
      "remote: Counting objects:  35% (798/2280)\u001b[K\r",
      "remote: Counting objects:  36% (821/2280)\u001b[K\r",
      "remote: Counting objects:  37% (844/2280)\u001b[K\r",
      "remote: Counting objects:  38% (867/2280)\u001b[K\r",
      "remote: Counting objects:  39% (890/2280)\u001b[K\r",
      "remote: Counting objects:  40% (912/2280)\u001b[K\r",
      "remote: Counting objects:  41% (935/2280)\u001b[K\r",
      "remote: Counting objects:  42% (958/2280)\u001b[K\r",
      "remote: Counting objects:  43% (981/2280)\u001b[K\r",
      "remote: Counting objects:  44% (1004/2280)\u001b[K\r",
      "remote: Counting objects:  45% (1026/2280)\u001b[K\r",
      "remote: Counting objects:  46% (1049/2280)\u001b[K\r",
      "remote: Counting objects:  47% (1072/2280)\u001b[K\r",
      "remote: Counting objects:  48% (1095/2280)\u001b[K\r",
      "remote: Counting objects:  49% (1118/2280)\u001b[K\r",
      "remote: Counting objects:  50% (1140/2280)\u001b[K\r",
      "remote: Counting objects:  51% (1163/2280)\u001b[K\r",
      "remote: Counting objects:  52% (1186/2280)\u001b[K\r",
      "remote: Counting objects:  53% (1209/2280)\u001b[K\r",
      "remote: Counting objects:  54% (1232/2280)\u001b[K\r",
      "remote: Counting objects:  55% (1254/2280)\u001b[K\r",
      "remote: Counting objects:  56% (1277/2280)\u001b[K\r",
      "remote: Counting objects:  57% (1300/2280)\u001b[K\r",
      "remote: Counting objects:  58% (1323/2280)\u001b[K\r",
      "remote: Counting objects:  59% (1346/2280)\u001b[K\r",
      "remote: Counting objects:  60% (1368/2280)\u001b[K\r",
      "remote: Counting objects:  61% (1391/2280)\u001b[K\r",
      "remote: Counting objects:  62% (1414/2280)\u001b[K\r",
      "remote: Counting objects:  63% (1437/2280)\u001b[K\r",
      "remote: Counting objects:  64% (1460/2280)\u001b[K\r",
      "remote: Counting objects:  65% (1482/2280)\u001b[K\r",
      "remote: Counting objects:  66% (1505/2280)\u001b[K\r",
      "remote: Counting objects:  67% (1528/2280)\u001b[K\r",
      "remote: Counting objects:  68% (1551/2280)\u001b[K\r",
      "remote: Counting objects:  69% (1574/2280)\u001b[K\r",
      "remote: Counting objects:  70% (1596/2280)\u001b[K\r",
      "remote: Counting objects:  71% (1619/2280)\u001b[K\r",
      "remote: Counting objects:  72% (1642/2280)\u001b[K\r",
      "remote: Counting objects:  73% (1665/2280)\u001b[K\r",
      "remote: Counting objects:  74% (1688/2280)\u001b[K\r",
      "remote: Counting objects:  75% (1710/2280)\u001b[K\r",
      "remote: Counting objects:  76% (1733/2280)\u001b[K\r",
      "remote: Counting objects:  77% (1756/2280)\u001b[K\r",
      "remote: Counting objects:  78% (1779/2280)\u001b[K\r",
      "remote: Counting objects:  79% (1802/2280)\u001b[K\r",
      "remote: Counting objects:  80% (1824/2280)\u001b[K\r",
      "remote: Counting objects:  81% (1847/2280)\u001b[K\r",
      "remote: Counting objects:  82% (1870/2280)\u001b[K\r",
      "remote: Counting objects:  83% (1893/2280)\u001b[K\r",
      "remote: Counting objects:  84% (1916/2280)\u001b[K\r",
      "remote: Counting objects:  85% (1938/2280)\u001b[K\r",
      "remote: Counting objects:  86% (1961/2280)\u001b[K\r",
      "remote: Counting objects:  87% (1984/2280)\u001b[K\r",
      "remote: Counting objects:  88% (2007/2280)\u001b[K\r",
      "remote: Counting objects:  89% (2030/2280)\u001b[K\r",
      "remote: Counting objects:  90% (2052/2280)\u001b[K\r",
      "remote: Counting objects:  91% (2075/2280)\u001b[K\r",
      "remote: Counting objects:  92% (2098/2280)\u001b[K\r",
      "remote: Counting objects:  93% (2121/2280)\u001b[K\r",
      "remote: Counting objects:  94% (2144/2280)\u001b[K\r",
      "remote: Counting objects:  95% (2166/2280)\u001b[K\r",
      "remote: Counting objects:  96% (2189/2280)\u001b[K\r",
      "remote: Counting objects:  97% (2212/2280)\u001b[K\r",
      "remote: Counting objects:  98% (2235/2280)\u001b[K\r",
      "remote: Counting objects:  99% (2258/2280)\u001b[K\r",
      "remote: Counting objects: 100% (2280/2280)\u001b[K\r",
      "remote: Counting objects: 100% (2280/2280), done.\u001b[K\r\n",
      "remote: Compressing objects:   0% (1/1971)\u001b[K\r",
      "remote: Compressing objects:   1% (20/1971)\u001b[K\r",
      "remote: Compressing objects:   2% (40/1971)\u001b[K\r",
      "remote: Compressing objects:   3% (60/1971)\u001b[K\r",
      "remote: Compressing objects:   4% (79/1971)\u001b[K\r",
      "remote: Compressing objects:   5% (99/1971)\u001b[K\r"
     ]
    },
    {
     "name": "stdout",
     "output_type": "stream",
     "text": [
      "remote: Compressing objects:   6% (119/1971)\u001b[K\r",
      "remote: Compressing objects:   7% (138/1971)\u001b[K\r",
      "remote: Compressing objects:   8% (158/1971)\u001b[K\r",
      "remote: Compressing objects:   9% (178/1971)\u001b[K\r",
      "remote: Compressing objects:  10% (198/1971)\u001b[K\r"
     ]
    },
    {
     "name": "stdout",
     "output_type": "stream",
     "text": [
      "remote: Compressing objects:  11% (217/1971)\u001b[K\r",
      "remote: Compressing objects:  12% (237/1971)\u001b[K\r",
      "remote: Compressing objects:  13% (257/1971)\u001b[K\r",
      "remote: Compressing objects:  14% (276/1971)\u001b[K\r",
      "remote: Compressing objects:  15% (296/1971)\u001b[K\r",
      "remote: Compressing objects:  16% (316/1971)\u001b[K\r",
      "remote: Compressing objects:  17% (336/1971)\u001b[K\r"
     ]
    },
    {
     "name": "stdout",
     "output_type": "stream",
     "text": [
      "remote: Compressing objects:  18% (355/1971)\u001b[K\r",
      "remote: Compressing objects:  19% (375/1971)\u001b[K\r",
      "remote: Compressing objects:  20% (395/1971)\u001b[K\r",
      "remote: Compressing objects:  21% (414/1971)\u001b[K\r",
      "remote: Compressing objects:  22% (434/1971)\u001b[K\r",
      "remote: Compressing objects:  23% (454/1971)\u001b[K\r"
     ]
    },
    {
     "name": "stdout",
     "output_type": "stream",
     "text": [
      "remote: Compressing objects:  24% (474/1971)\u001b[K\r",
      "remote: Compressing objects:  25% (493/1971)\u001b[K\r",
      "remote: Compressing objects:  26% (513/1971)\u001b[K\r",
      "remote: Compressing objects:  27% (533/1971)\u001b[K\r"
     ]
    },
    {
     "name": "stdout",
     "output_type": "stream",
     "text": [
      "remote: Compressing objects:  28% (552/1971)\u001b[K\r",
      "remote: Compressing objects:  29% (572/1971)\u001b[K\r",
      "remote: Compressing objects:  30% (592/1971)\u001b[K\r",
      "remote: Compressing objects:  31% (612/1971)\u001b[K\r",
      "remote: Compressing objects:  32% (631/1971)\u001b[K\r",
      "remote: Compressing objects:  33% (651/1971)\u001b[K\r"
     ]
    },
    {
     "name": "stdout",
     "output_type": "stream",
     "text": [
      "remote: Compressing objects:  34% (671/1971)\u001b[K\r",
      "remote: Compressing objects:  35% (690/1971)\u001b[K\r",
      "remote: Compressing objects:  36% (710/1971)\u001b[K\r",
      "remote: Compressing objects:  37% (730/1971)\u001b[K\r",
      "remote: Compressing objects:  38% (749/1971)\u001b[K\r"
     ]
    },
    {
     "name": "stdout",
     "output_type": "stream",
     "text": [
      "remote: Compressing objects:  39% (769/1971)\u001b[K\r",
      "remote: Compressing objects:  40% (789/1971)\u001b[K\r",
      "remote: Compressing objects:  41% (809/1971)\u001b[K\r",
      "remote: Compressing objects:  42% (828/1971)\u001b[K\r",
      "remote: Compressing objects:  43% (848/1971)\u001b[K\r",
      "remote: Compressing objects:  44% (868/1971)\u001b[K\r"
     ]
    },
    {
     "name": "stdout",
     "output_type": "stream",
     "text": [
      "remote: Compressing objects:  45% (887/1971)\u001b[K\r",
      "remote: Compressing objects:  46% (907/1971)\u001b[K\r",
      "remote: Compressing objects:  47% (927/1971)\u001b[K\r",
      "remote: Compressing objects:  48% (947/1971)\u001b[K\r",
      "remote: Compressing objects:  49% (966/1971)\u001b[K\r"
     ]
    },
    {
     "name": "stdout",
     "output_type": "stream",
     "text": [
      "remote: Compressing objects:  50% (986/1971)\u001b[K\r",
      "remote: Compressing objects:  51% (1006/1971)\u001b[K\r",
      "remote: Compressing objects:  52% (1025/1971)\u001b[K\r",
      "remote: Compressing objects:  53% (1045/1971)\u001b[K\r",
      "remote: Compressing objects:  54% (1065/1971)\u001b[K\r"
     ]
    },
    {
     "name": "stdout",
     "output_type": "stream",
     "text": [
      "remote: Compressing objects:  55% (1085/1971)\u001b[K\r",
      "remote: Compressing objects:  56% (1104/1971)\u001b[K\r",
      "remote: Compressing objects:  57% (1124/1971)\u001b[K\r",
      "remote: Compressing objects:  58% (1144/1971)\u001b[K\r",
      "remote: Compressing objects:  59% (1163/1971)\u001b[K\r"
     ]
    },
    {
     "name": "stdout",
     "output_type": "stream",
     "text": [
      "remote: Compressing objects:  60% (1183/1971)\u001b[K\r",
      "remote: Compressing objects:  61% (1203/1971)\u001b[K\r",
      "remote: Compressing objects:  62% (1223/1971)\u001b[K\r",
      "remote: Compressing objects:  63% (1242/1971)\u001b[K\r",
      "remote: Compressing objects:  64% (1262/1971)\u001b[K\r",
      "remote: Compressing objects:  65% (1282/1971)\u001b[K\r",
      "remote: Compressing objects:  66% (1301/1971)\u001b[K\r",
      "remote: Compressing objects:  67% (1321/1971)\u001b[K\r",
      "remote: Compressing objects:  68% (1341/1971)\u001b[K\r",
      "remote: Compressing objects:  69% (1360/1971)\u001b[K\r",
      "remote: Compressing objects:  70% (1380/1971)\u001b[K\r",
      "remote: Compressing objects:  71% (1400/1971)\u001b[K\r",
      "remote: Compressing objects:  72% (1420/1971)\u001b[K\r",
      "remote: Compressing objects:  73% (1439/1971)\u001b[K\r",
      "remote: Compressing objects:  74% (1459/1971)\u001b[K\r"
     ]
    },
    {
     "name": "stdout",
     "output_type": "stream",
     "text": [
      "remote: Compressing objects:  75% (1479/1971)\u001b[K\r",
      "remote: Compressing objects:  76% (1498/1971)\u001b[K\r",
      "remote: Compressing objects:  77% (1518/1971)\u001b[K\r",
      "remote: Compressing objects:  78% (1538/1971)\u001b[K\r",
      "remote: Compressing objects:  79% (1558/1971)\u001b[K\r",
      "remote: Compressing objects:  80% (1577/1971)\u001b[K\r"
     ]
    },
    {
     "name": "stdout",
     "output_type": "stream",
     "text": [
      "remote: Compressing objects:  81% (1597/1971)\u001b[K\r",
      "remote: Compressing objects:  82% (1617/1971)\u001b[K\r",
      "remote: Compressing objects:  83% (1636/1971)\u001b[K\r",
      "remote: Compressing objects:  84% (1656/1971)\u001b[K\r",
      "remote: Compressing objects:  85% (1676/1971)\u001b[K\r",
      "remote: Compressing objects:  86% (1696/1971)\u001b[K\r",
      "remote: Compressing objects:  87% (1715/1971)\u001b[K\r",
      "remote: Compressing objects:  88% (1735/1971)\u001b[K\r",
      "remote: Compressing objects:  89% (1755/1971)\u001b[K\r",
      "remote: Compressing objects:  90% (1774/1971)\u001b[K\r",
      "remote: Compressing objects:  91% (1794/1971)\u001b[K\r",
      "remote: Compressing objects:  92% (1814/1971)\u001b[K\r",
      "remote: Compressing objects:  93% (1834/1971)\u001b[K\r",
      "remote: Compressing objects:  94% (1853/1971)\u001b[K\r",
      "remote: Compressing objects:  95% (1873/1971)\u001b[K\r",
      "remote: Compressing objects:  96% (1893/1971)\u001b[K\r",
      "remote: Compressing objects:  97% (1912/1971)\u001b[K\r",
      "remote: Compressing objects:  98% (1932/1971)\u001b[K\r",
      "remote: Compressing objects:  99% (1952/1971)\u001b[K\r",
      "remote: Compressing objects: 100% (1971/1971)\u001b[K\r",
      "remote: Compressing objects: 100% (1971/1971), done.\u001b[K\r\n",
      "Receiving objects:   0% (1/2280)\r",
      "Receiving objects:   1% (23/2280)\r",
      "Receiving objects:   2% (46/2280)\r",
      "Receiving objects:   3% (69/2280)\r",
      "Receiving objects:   4% (92/2280)\r",
      "Receiving objects:   5% (114/2280)\r",
      "Receiving objects:   6% (137/2280)\r"
     ]
    },
    {
     "name": "stdout",
     "output_type": "stream",
     "text": [
      "Receiving objects:   7% (160/2280)\r",
      "Receiving objects:   8% (183/2280)\r",
      "Receiving objects:   9% (206/2280)\r",
      "Receiving objects:  10% (228/2280)\r",
      "Receiving objects:  11% (251/2280)\r",
      "Receiving objects:  12% (274/2280)\r",
      "Receiving objects:  13% (297/2280)\r",
      "Receiving objects:  14% (320/2280)\r",
      "Receiving objects:  15% (342/2280)\r",
      "Receiving objects:  16% (365/2280)\r"
     ]
    },
    {
     "name": "stdout",
     "output_type": "stream",
     "text": [
      "Receiving objects:  17% (388/2280)\r",
      "Receiving objects:  18% (411/2280)\r",
      "Receiving objects:  19% (434/2280)\r",
      "Receiving objects:  20% (456/2280)\r",
      "Receiving objects:  21% (479/2280)\r",
      "Receiving objects:  22% (502/2280)\r",
      "Receiving objects:  23% (525/2280)\r",
      "Receiving objects:  24% (548/2280)\r",
      "Receiving objects:  25% (570/2280)\r",
      "Receiving objects:  26% (593/2280)\r",
      "Receiving objects:  27% (616/2280)\r",
      "Receiving objects:  28% (639/2280)\r",
      "Receiving objects:  29% (662/2280)\r",
      "Receiving objects:  30% (684/2280)\r",
      "Receiving objects:  31% (707/2280)\r"
     ]
    },
    {
     "name": "stdout",
     "output_type": "stream",
     "text": [
      "Receiving objects:  32% (730/2280)\r",
      "Receiving objects:  33% (753/2280)\r",
      "Receiving objects:  34% (776/2280)\r"
     ]
    },
    {
     "name": "stdout",
     "output_type": "stream",
     "text": [
      "Receiving objects:  35% (798/2280)\r"
     ]
    },
    {
     "name": "stdout",
     "output_type": "stream",
     "text": [
      "Receiving objects:  36% (821/2280)\r"
     ]
    },
    {
     "name": "stdout",
     "output_type": "stream",
     "text": [
      "Receiving objects:  37% (844/2280), 4.69 MiB | 9.39 MiB/s\r",
      "Receiving objects:  38% (867/2280), 4.69 MiB | 9.39 MiB/s\r",
      "Receiving objects:  39% (890/2280), 4.69 MiB | 9.39 MiB/s\r",
      "Receiving objects:  40% (912/2280), 4.69 MiB | 9.39 MiB/s\r",
      "Receiving objects:  41% (935/2280), 4.69 MiB | 9.39 MiB/s\r",
      "Receiving objects:  42% (958/2280), 4.69 MiB | 9.39 MiB/s\r",
      "Receiving objects:  43% (981/2280), 4.69 MiB | 9.39 MiB/s\r",
      "Receiving objects:  44% (1004/2280), 4.69 MiB | 9.39 MiB/s\r",
      "Receiving objects:  45% (1026/2280), 4.69 MiB | 9.39 MiB/s\r"
     ]
    },
    {
     "name": "stdout",
     "output_type": "stream",
     "text": [
      "Receiving objects:  46% (1049/2280), 4.69 MiB | 9.39 MiB/s\r"
     ]
    },
    {
     "name": "stdout",
     "output_type": "stream",
     "text": [
      "Receiving objects:  47% (1072/2280), 4.69 MiB | 9.39 MiB/s\r",
      "Receiving objects:  48% (1095/2280), 4.69 MiB | 9.39 MiB/s\r",
      "Receiving objects:  49% (1118/2280), 4.69 MiB | 9.39 MiB/s\r",
      "Receiving objects:  50% (1140/2280), 4.69 MiB | 9.39 MiB/s\r",
      "Receiving objects:  51% (1163/2280), 4.69 MiB | 9.39 MiB/s\r",
      "Receiving objects:  52% (1186/2280), 4.69 MiB | 9.39 MiB/s\r",
      "Receiving objects:  53% (1209/2280), 4.69 MiB | 9.39 MiB/s\r",
      "Receiving objects:  54% (1232/2280), 4.69 MiB | 9.39 MiB/s\r",
      "Receiving objects:  55% (1254/2280), 4.69 MiB | 9.39 MiB/s\r"
     ]
    },
    {
     "name": "stdout",
     "output_type": "stream",
     "text": [
      "Receiving objects:  56% (1277/2280), 4.69 MiB | 9.39 MiB/s\r",
      "Receiving objects:  57% (1300/2280), 4.69 MiB | 9.39 MiB/s\r",
      "Receiving objects:  58% (1323/2280), 4.69 MiB | 9.39 MiB/s\r",
      "Receiving objects:  59% (1346/2280), 4.69 MiB | 9.39 MiB/s\r",
      "Receiving objects:  60% (1368/2280), 4.69 MiB | 9.39 MiB/s\r",
      "Receiving objects:  61% (1391/2280), 4.69 MiB | 9.39 MiB/s\r"
     ]
    },
    {
     "name": "stdout",
     "output_type": "stream",
     "text": [
      "Receiving objects:  62% (1414/2280), 4.69 MiB | 9.39 MiB/s\r",
      "Receiving objects:  63% (1437/2280), 4.69 MiB | 9.39 MiB/s\r",
      "Receiving objects:  64% (1460/2280), 4.69 MiB | 9.39 MiB/s\r",
      "Receiving objects:  65% (1482/2280), 4.69 MiB | 9.39 MiB/s\r",
      "Receiving objects:  66% (1505/2280), 4.69 MiB | 9.39 MiB/s\r",
      "Receiving objects:  67% (1528/2280), 4.69 MiB | 9.39 MiB/s\r",
      "Receiving objects:  68% (1551/2280), 4.69 MiB | 9.39 MiB/s\r",
      "Receiving objects:  69% (1574/2280), 4.69 MiB | 9.39 MiB/s\r"
     ]
    },
    {
     "name": "stdout",
     "output_type": "stream",
     "text": [
      "Receiving objects:  69% (1578/2280), 16.07 MiB | 16.09 MiB/s\r"
     ]
    },
    {
     "name": "stdout",
     "output_type": "stream",
     "text": [
      "Receiving objects:  70% (1596/2280), 16.07 MiB | 16.09 MiB/s\r",
      "Receiving objects:  71% (1619/2280), 16.07 MiB | 16.09 MiB/s\r",
      "Receiving objects:  72% (1642/2280), 16.07 MiB | 16.09 MiB/s\r",
      "Receiving objects:  73% (1665/2280), 16.07 MiB | 16.09 MiB/s\r",
      "Receiving objects:  74% (1688/2280), 16.07 MiB | 16.09 MiB/s\r",
      "Receiving objects:  75% (1710/2280), 16.07 MiB | 16.09 MiB/s\r",
      "Receiving objects:  76% (1733/2280), 16.07 MiB | 16.09 MiB/s\r",
      "Receiving objects:  77% (1756/2280), 16.07 MiB | 16.09 MiB/s\r",
      "Receiving objects:  78% (1779/2280), 16.07 MiB | 16.09 MiB/s\r",
      "Receiving objects:  79% (1802/2280), 16.07 MiB | 16.09 MiB/s\r",
      "Receiving objects:  80% (1824/2280), 16.07 MiB | 16.09 MiB/s\r",
      "Receiving objects:  81% (1847/2280), 16.07 MiB | 16.09 MiB/s\r",
      "Receiving objects:  82% (1870/2280), 16.07 MiB | 16.09 MiB/s\r"
     ]
    },
    {
     "name": "stdout",
     "output_type": "stream",
     "text": [
      "Receiving objects:  83% (1893/2280), 16.07 MiB | 16.09 MiB/s\r"
     ]
    },
    {
     "name": "stdout",
     "output_type": "stream",
     "text": [
      "Receiving objects:  84% (1916/2280), 16.07 MiB | 16.09 MiB/s\r",
      "Receiving objects:  85% (1938/2280), 16.07 MiB | 16.09 MiB/s\r"
     ]
    },
    {
     "name": "stdout",
     "output_type": "stream",
     "text": [
      "Receiving objects:  86% (1961/2280), 16.07 MiB | 16.09 MiB/s\r",
      "Receiving objects:  87% (1984/2280), 16.07 MiB | 16.09 MiB/s\r",
      "Receiving objects:  88% (2007/2280), 29.16 MiB | 19.45 MiB/s\r",
      "Receiving objects:  89% (2030/2280), 29.16 MiB | 19.45 MiB/s\r",
      "Receiving objects:  90% (2052/2280), 29.16 MiB | 19.45 MiB/s\r",
      "Receiving objects:  91% (2075/2280), 29.16 MiB | 19.45 MiB/s\r",
      "Receiving objects:  92% (2098/2280), 29.16 MiB | 19.45 MiB/s\r",
      "Receiving objects:  93% (2121/2280), 29.16 MiB | 19.45 MiB/s\r",
      "Receiving objects:  94% (2144/2280), 29.16 MiB | 19.45 MiB/s\r",
      "Receiving objects:  95% (2166/2280), 29.16 MiB | 19.45 MiB/s\r",
      "Receiving objects:  96% (2189/2280), 29.16 MiB | 19.45 MiB/s\r"
     ]
    },
    {
     "name": "stdout",
     "output_type": "stream",
     "text": [
      "Receiving objects:  97% (2212/2280), 29.16 MiB | 19.45 MiB/s\r",
      "Receiving objects:  98% (2235/2280), 29.16 MiB | 19.45 MiB/s\r",
      "Receiving objects:  99% (2258/2280), 29.16 MiB | 19.45 MiB/s\r",
      "remote: Total 2280 (delta 557), reused 969 (delta 283), pack-reused 0\u001b[K\r\n",
      "Receiving objects: 100% (2280/2280), 29.16 MiB | 19.45 MiB/s\r",
      "Receiving objects: 100% (2280/2280), 30.55 MiB | 19.72 MiB/s, done.\r\n",
      "Resolving deltas:   0% (0/557)\r",
      "Resolving deltas:   1% (8/557)\r",
      "Resolving deltas:   2% (14/557)\r",
      "Resolving deltas:   3% (17/557)\r",
      "Resolving deltas:   4% (27/557)\r",
      "Resolving deltas:   5% (33/557)\r",
      "Resolving deltas:   6% (35/557)\r",
      "Resolving deltas:   7% (39/557)\r",
      "Resolving deltas:   8% (45/557)\r",
      "Resolving deltas:   9% (51/557)\r",
      "Resolving deltas:  10% (57/557)\r",
      "Resolving deltas:  11% (64/557)\r",
      "Resolving deltas:  12% (68/557)\r",
      "Resolving deltas:  13% (73/557)\r",
      "Resolving deltas:  14% (78/557)\r",
      "Resolving deltas:  15% (84/557)\r",
      "Resolving deltas:  16% (90/557)\r",
      "Resolving deltas:  17% (95/557)\r",
      "Resolving deltas:  18% (101/557)\r",
      "Resolving deltas:  19% (106/557)\r",
      "Resolving deltas:  20% (112/557)\r",
      "Resolving deltas:  21% (121/557)\r",
      "Resolving deltas:  23% (129/557)\r",
      "Resolving deltas:  24% (134/557)\r",
      "Resolving deltas:  25% (140/557)\r",
      "Resolving deltas:  26% (145/557)\r",
      "Resolving deltas:  27% (151/557)\r",
      "Resolving deltas:  28% (156/557)\r",
      "Resolving deltas:  29% (162/557)\r",
      "Resolving deltas:  30% (168/557)\r",
      "Resolving deltas:  31% (173/557)\r",
      "Resolving deltas:  32% (179/557)\r",
      "Resolving deltas:  33% (185/557)\r",
      "Resolving deltas:  35% (195/557)\r",
      "Resolving deltas:  36% (202/557)\r",
      "Resolving deltas:  37% (208/557)\r",
      "Resolving deltas:  38% (212/557)\r",
      "Resolving deltas:  39% (218/557)\r",
      "Resolving deltas:  40% (225/557)\r",
      "Resolving deltas:  41% (229/557)\r",
      "Resolving deltas:  42% (234/557)\r",
      "Resolving deltas:  43% (240/557)\r",
      "Resolving deltas:  44% (246/557)\r",
      "Resolving deltas:  46% (257/557)\r",
      "Resolving deltas:  47% (262/557)\r",
      "Resolving deltas:  48% (268/557)\r",
      "Resolving deltas:  49% (274/557)\r",
      "Resolving deltas:  50% (283/557)\r",
      "Resolving deltas:  51% (289/557)\r",
      "Resolving deltas:  53% (296/557)\r",
      "Resolving deltas:  54% (302/557)\r",
      "Resolving deltas:  55% (309/557)\r",
      "Resolving deltas:  56% (315/557)\r",
      "Resolving deltas:  57% (321/557)\r",
      "Resolving deltas:  58% (326/557)\r",
      "Resolving deltas:  59% (330/557)\r",
      "Resolving deltas:  60% (336/557)\r",
      "Resolving deltas:  61% (342/557)\r",
      "Resolving deltas:  62% (348/557)\r",
      "Resolving deltas:  63% (356/557)\r",
      "Resolving deltas:  64% (357/557)\r",
      "Resolving deltas:  69% (385/557)\r",
      "Resolving deltas:  70% (393/557)\r",
      "Resolving deltas:  71% (398/557)\r",
      "Resolving deltas:  72% (402/557)\r",
      "Resolving deltas:  73% (408/557)\r",
      "Resolving deltas:  74% (413/557)\r",
      "Resolving deltas:  75% (421/557)\r",
      "Resolving deltas:  76% (424/557)\r",
      "Resolving deltas:  77% (430/557)\r",
      "Resolving deltas:  78% (435/557)\r",
      "Resolving deltas:  79% (443/557)\r",
      "Resolving deltas:  80% (451/557)\r",
      "Resolving deltas:  82% (459/557)\r",
      "Resolving deltas:  83% (464/557)\r",
      "Resolving deltas:  84% (468/557)\r",
      "Resolving deltas:  85% (475/557)\r",
      "Resolving deltas:  86% (484/557)\r",
      "Resolving deltas:  87% (485/557)\r",
      "Resolving deltas:  88% (491/557)\r",
      "Resolving deltas:  89% (497/557)\r",
      "Resolving deltas:  90% (504/557)\r",
      "Resolving deltas:  91% (507/557)\r",
      "Resolving deltas:  92% (515/557)\r",
      "Resolving deltas:  93% (520/557)\r",
      "Resolving deltas:  94% (526/557)\r",
      "Resolving deltas:  95% (530/557)\r",
      "Resolving deltas:  96% (536/557)\r",
      "Resolving deltas:  97% (542/557)\r",
      "Resolving deltas:  98% (546/557)\r",
      "Resolving deltas:  99% (552/557)\r",
      "Resolving deltas: 100% (557/557)\r",
      "Resolving deltas: 100% (557/557), done.\r\n"
     ]
    },
    {
     "name": "stdout",
     "output_type": "stream",
     "text": [
      "Updating files:  78% (1665/2130)\r",
      "Updating files:  79% (1683/2130)\r",
      "Updating files:  80% (1704/2130)\r",
      "Updating files:  81% (1726/2130)\r",
      "Updating files:  82% (1747/2130)\r"
     ]
    },
    {
     "name": "stdout",
     "output_type": "stream",
     "text": [
      "Updating files:  83% (1768/2130)\r",
      "Updating files:  84% (1790/2130)\r"
     ]
    },
    {
     "name": "stdout",
     "output_type": "stream",
     "text": [
      "Updating files:  85% (1811/2130)\r",
      "Updating files:  86% (1832/2130)\r",
      "Updating files:  87% (1854/2130)\r",
      "Updating files:  88% (1875/2130)\r"
     ]
    },
    {
     "name": "stdout",
     "output_type": "stream",
     "text": [
      "Updating files:  89% (1896/2130)\r",
      "Updating files:  90% (1917/2130)\r",
      "Updating files:  91% (1939/2130)\r",
      "Updating files:  92% (1960/2130)\r",
      "Updating files:  93% (1981/2130)\r",
      "Updating files:  94% (2003/2130)\r"
     ]
    },
    {
     "name": "stdout",
     "output_type": "stream",
     "text": [
      "Updating files:  95% (2024/2130)\r",
      "Updating files:  96% (2045/2130)\r",
      "Updating files:  97% (2067/2130)\r",
      "Updating files:  98% (2088/2130)\r",
      "Updating files:  99% (2109/2130)\r",
      "Updating files: 100% (2130/2130)\r",
      "Updating files: 100% (2130/2130), done.\r\n"
     ]
    },
    {
     "name": "stdout",
     "output_type": "stream",
     "text": [
      "/bin/sh: pip: command not found\r\n"
     ]
    },
    {
     "name": "stdout",
     "output_type": "stream",
     "text": [
      "/bin/sh: pip: command not found\r\n"
     ]
    },
    {
     "name": "stdout",
     "output_type": "stream",
     "text": [
      "/bin/sh: pip: command not found\r\n"
     ]
    },
    {
     "name": "stdout",
     "output_type": "stream",
     "text": [
      "[Errno 2] No such file or directory: '/content/models/research'\n",
      "/Users/niko/Documents/cloud-annotations-elyra\n"
     ]
    },
    {
     "name": "stdout",
     "output_type": "stream",
     "text": [
      "object_detection/protos/*.proto: No such file or directory\r\n"
     ]
    },
    {
     "ename": "KeyError",
     "evalue": "'PYTHONPATH'",
     "output_type": "error",
     "traceback": [
      "\u001b[0;31m---------------------------------------------------------------------------\u001b[0m",
      "\u001b[0;31mKeyError\u001b[0m                                  Traceback (most recent call last)",
      "\u001b[0;32m<ipython-input-3-a2b05f7048db>\u001b[0m in \u001b[0;36m<module>\u001b[0;34m()\u001b[0m\n\u001b[1;32m     17\u001b[0m \u001b[0;34m\u001b[0m\u001b[0m\n\u001b[1;32m     18\u001b[0m \u001b[0mpwd\u001b[0m \u001b[0;34m=\u001b[0m \u001b[0mos\u001b[0m\u001b[0;34m.\u001b[0m\u001b[0mgetcwd\u001b[0m\u001b[0;34m(\u001b[0m\u001b[0;34m)\u001b[0m\u001b[0;34m\u001b[0m\u001b[0m\n\u001b[0;32m---> 19\u001b[0;31m \u001b[0mos\u001b[0m\u001b[0;34m.\u001b[0m\u001b[0menviron\u001b[0m\u001b[0;34m[\u001b[0m\u001b[0;34m'PYTHONPATH'\u001b[0m\u001b[0;34m]\u001b[0m \u001b[0;34m+=\u001b[0m \u001b[0;34mf':{pwd}:{pwd}/slim'\u001b[0m\u001b[0;34m\u001b[0m\u001b[0m\n\u001b[0m",
      "\u001b[0;32m/Library/Frameworks/Python.framework/Versions/3.6/lib/python3.6/os.py\u001b[0m in \u001b[0;36m__getitem__\u001b[0;34m(self, key)\u001b[0m\n\u001b[1;32m    667\u001b[0m         \u001b[0;32mexcept\u001b[0m \u001b[0mKeyError\u001b[0m\u001b[0;34m:\u001b[0m\u001b[0;34m\u001b[0m\u001b[0m\n\u001b[1;32m    668\u001b[0m             \u001b[0;31m# raise KeyError with the original key value\u001b[0m\u001b[0;34m\u001b[0m\u001b[0;34m\u001b[0m\u001b[0m\n\u001b[0;32m--> 669\u001b[0;31m             \u001b[0;32mraise\u001b[0m \u001b[0mKeyError\u001b[0m\u001b[0;34m(\u001b[0m\u001b[0mkey\u001b[0m\u001b[0;34m)\u001b[0m \u001b[0;32mfrom\u001b[0m \u001b[0;32mNone\u001b[0m\u001b[0;34m\u001b[0m\u001b[0m\n\u001b[0m\u001b[1;32m    670\u001b[0m         \u001b[0;32mreturn\u001b[0m \u001b[0mself\u001b[0m\u001b[0;34m.\u001b[0m\u001b[0mdecodevalue\u001b[0m\u001b[0;34m(\u001b[0m\u001b[0mvalue\u001b[0m\u001b[0;34m)\u001b[0m\u001b[0;34m\u001b[0m\u001b[0m\n\u001b[1;32m    671\u001b[0m \u001b[0;34m\u001b[0m\u001b[0m\n",
      "\u001b[0;31mKeyError\u001b[0m: 'PYTHONPATH'"
     ]
    }
   ],
   "source": [
    "import os\n",
    "import pathlib\n",
    "\n",
    "# Clone the tensorflow models repository if it doesn't already exist\n",
    "if \"models\" in pathlib.Path.cwd().parts:\n",
    "    while \"models\" in pathlib.Path.cwd().parts:\n",
    "        os.chdir('..')\n",
    "elif not pathlib.Path('models').exists():\n",
    "    !git clone --depth 1 https://github.com/tensorflow/models\n",
    "\n",
    "!pip install cloud-annotations==0.0.4\n",
    "!pip install tf_slim\n",
    "!pip install --no-deps tensorflowjs==1.4.0\n",
    "\n",
    "%cd /content/models/research\n",
    "!protoc object_detection/protos/*.proto --python_out=.\n",
    "\n",
    "pwd = os.getcwd()\n",
    "os.environ['PYTHONPATH'] += f':{pwd}:{pwd}/slim'"
   ]
  },
  {
   "cell_type": "markdown",
   "metadata": {
    "id": "G-DHE8xTssqT",
    "papermill": {
     "duration": null,
     "end_time": null,
     "exception": null,
     "start_time": null,
     "status": "pending"
    },
    "tags": []
   },
   "source": [
    "# Mount Cloud Annotations Bucket\n",
    "In order to use files from Cloud Annotations we need to mount it to Colab."
   ]
  },
  {
   "cell_type": "code",
   "execution_count": null,
   "metadata": {
    "id": "jydTH9gYQ3y7",
    "papermill": {
     "duration": null,
     "end_time": null,
     "exception": null,
     "start_time": null,
     "status": "pending"
    },
    "tags": []
   },
   "outputs": [],
   "source": [
    "import cloud_annotations as ca\n",
    "ca.mount(CLOUD_ANNOTATIONS_MOUNT, credentials)"
   ]
  },
  {
   "cell_type": "markdown",
   "metadata": {
    "id": "ISX8k0TfdDHj",
    "papermill": {
     "duration": null,
     "end_time": null,
     "exception": null,
     "start_time": null,
     "status": "pending"
    },
    "tags": []
   },
   "source": [
    "# Generate a Label Map\n",
    "One piece of data the Object Detection API needs is a label map protobuf. The label map associates an integer id to the text representation of the label. The ids are indexed by 1, meaning the first label will have an id of 1 not 0.\n",
    "\n",
    "Here is an example of what a label map looks like:\n",
    "```\n",
    "item {\n",
    "  id: 1\n",
    "  name: 'Cat'\n",
    "}\n",
    "\n",
    "item {\n",
    "  id: 2\n",
    "  name: 'Dog'\n",
    "}\n",
    "\n",
    "item {\n",
    "  id: 3\n",
    "  name: 'Gold Fish'\n",
    "}\n",
    "```\n"
   ]
  },
  {
   "cell_type": "code",
   "execution_count": null,
   "metadata": {
    "id": "nJsKCG3UdDsn",
    "papermill": {
     "duration": null,
     "end_time": null,
     "exception": null,
     "start_time": null,
     "status": "pending"
    },
    "tags": []
   },
   "outputs": [],
   "source": [
    "import os\n",
    "import json\n",
    "\n",
    "# Get a list of labels from the annotations.json\n",
    "labels = {}\n",
    "with open(ANNOTATIONS_JSON_PATH) as f:\n",
    "    annotations = json.load(f)\n",
    "    labels = annotations['labels']\n",
    "\n",
    "# Create a file named label_map.pbtxt\n",
    "os.makedirs(DATA_PATH, exist_ok=True)\n",
    "with open(LABEL_MAP_PATH, 'w') as f:\n",
    "    # Loop through all of the labels and write each label to the file with an id\n",
    "    for idx, label in enumerate(labels):\n",
    "        f.write('item {\\n')\n",
    "        f.write(\"\\tname: '{}'\\n\".format(label))\n",
    "        f.write('\\tid: {}\\n'.format(idx + 1)) # indexes must start at 1\n",
    "        f.write('}\\n')"
   ]
  },
  {
   "cell_type": "markdown",
   "metadata": {
    "id": "siRNKiuvsz25",
    "papermill": {
     "duration": null,
     "end_time": null,
     "exception": null,
     "start_time": null,
     "status": "pending"
    },
    "tags": []
   },
   "source": [
    "# Generate TFRecords\n",
    "The TensorFlow Object Detection API expects our data to be in the format of TFRecords.\n",
    "\n",
    "The TFRecord format is a collection of serialized feature dicts, one for each image, looking something like this:\n",
    "```\n",
    "{\n",
    "  'image/height': 1800,\n",
    "  'image/width': 2400,\n",
    "  'image/filename': 'image1.jpg',\n",
    "  'image/source_id': 'image1.jpg',\n",
    "  'image/encoded': ACTUAL_ENCODED_IMAGE_DATA_AS_BYTES,\n",
    "  'image/format': 'jpeg',\n",
    "  'image/object/bbox/xmin': [0.7255949630314233, 0.8845598428835489],\n",
    "  'image/object/bbox/xmax': [0.9695875693160814, 1.0000000000000000],\n",
    "  'image/object/bbox/ymin': [0.5820120073891626, 0.1829972290640394],\n",
    "  'image/object/bbox/ymax': [1.0000000000000000, 0.9662484605911330],\n",
    "  'image/object/class/text': (['Cat', 'Dog']),\n",
    "  'image/object/class/label': ([1, 2])\n",
    "}\n",
    "```"
   ]
  },
  {
   "cell_type": "code",
   "execution_count": null,
   "metadata": {
    "id": "cAkOvP-gZR1x",
    "papermill": {
     "duration": null,
     "end_time": null,
     "exception": null,
     "start_time": null,
     "status": "pending"
    },
    "tags": []
   },
   "outputs": [],
   "source": [
    "import os\n",
    "import io\n",
    "import json\n",
    "import random\n",
    "\n",
    "import PIL.Image\n",
    "import tensorflow as tf\n",
    "\n",
    "from object_detection.utils import dataset_util\n",
    "from object_detection.utils import label_map_util\n",
    "\n",
    "def create_tf_record(images, annotations, label_map, image_path, output):\n",
    "    # Create a train.record TFRecord file.\n",
    "    with tf.python_io.TFRecordWriter(output) as writer:\n",
    "        # Loop through all the training examples.\n",
    "        for image_name in images:\n",
    "            try:\n",
    "                # Make sure the image is actually a file\n",
    "                img_path = os.path.join(image_path, image_name)   \n",
    "                if not os.path.isfile(img_path):\n",
    "                    continue\n",
    "          \n",
    "                # Read in the image.\n",
    "                with tf.gfile.GFile(img_path, 'rb') as fid:\n",
    "                    encoded_jpg = fid.read()\n",
    "\n",
    "                # Open the image with PIL so we can check that it's a jpeg and get the image\n",
    "                # dimensions.\n",
    "                encoded_jpg_io = io.BytesIO(encoded_jpg)\n",
    "                image = PIL.Image.open(encoded_jpg_io)\n",
    "                if image.format != 'JPEG':\n",
    "                    raise ValueError('Image format not JPEG')\n",
    "\n",
    "                width, height = image.size\n",
    "\n",
    "                # Initialize all the arrays.\n",
    "                xmins = []\n",
    "                xmaxs = []\n",
    "                ymins = []\n",
    "                ymaxs = []\n",
    "                classes_text = []\n",
    "                classes = []\n",
    "\n",
    "                # The class text is the label name and the class is the id. If there are 3\n",
    "                # cats in the image and 1 dog, it may look something like this:\n",
    "                # classes_text = ['Cat', 'Cat', 'Dog', 'Cat']\n",
    "                # classes      = [  1  ,   1  ,   2  ,   1  ]\n",
    "\n",
    "                # For each image, loop through all the annotations and append their values.\n",
    "                for a in annotations[image_name]:\n",
    "                    if (\"x\" in a and \"x2\" in a and \"y\" in a and \"y2\" in a):\n",
    "                        label = a['label']\n",
    "                        xmins.append(a[\"x\"])\n",
    "                        xmaxs.append(a[\"x2\"])\n",
    "                        ymins.append(a[\"y\"])\n",
    "                        ymaxs.append(a[\"y2\"])\n",
    "                        classes_text.append(label.encode(\"utf8\"))\n",
    "                        classes.append(label_map[label])\n",
    "       \n",
    "                # Create the TFExample.\n",
    "                tf_example = tf.train.Example(features=tf.train.Features(feature={\n",
    "                    'image/height': dataset_util.int64_feature(height),\n",
    "                    'image/width': dataset_util.int64_feature(width),\n",
    "                    'image/filename': dataset_util.bytes_feature(image_name.encode('utf8')),\n",
    "                    'image/source_id': dataset_util.bytes_feature(image_name.encode('utf8')),\n",
    "                    'image/encoded': dataset_util.bytes_feature(encoded_jpg),\n",
    "                    'image/format': dataset_util.bytes_feature('jpeg'.encode('utf8')),\n",
    "                    'image/object/bbox/xmin': dataset_util.float_list_feature(xmins),\n",
    "                    'image/object/bbox/xmax': dataset_util.float_list_feature(xmaxs),\n",
    "                    'image/object/bbox/ymin': dataset_util.float_list_feature(ymins),\n",
    "                    'image/object/bbox/ymax': dataset_util.float_list_feature(ymaxs),\n",
    "                    'image/object/class/text': dataset_util.bytes_list_feature(classes_text),\n",
    "                    'image/object/class/label': dataset_util.int64_list_feature(classes),\n",
    "                }))\n",
    "                if tf_example:\n",
    "                    # Write the TFExample to the TFRecord.\n",
    "                    writer.write(tf_example.SerializeToString())\n",
    "            except ValueError:\n",
    "                print('Invalid example, ignoring.')\n",
    "                pass\n",
    "            except IOError:\n",
    "                print(\"Can't read example, ignoring.\")\n",
    "                pass\n",
    "\n",
    "with open(ANNOTATIONS_JSON_PATH) as f:\n",
    "    annotations = json.load(f)['annotations']\n",
    "    image_files = [image for image in annotations.keys()]\n",
    "    # Load the label map we created.\n",
    "    label_map = label_map_util.get_label_map_dict(LABEL_MAP_PATH)\n",
    "\n",
    "    random.seed(42)\n",
    "    random.shuffle(image_files)\n",
    "    num_train = int(0.7 * len(image_files))\n",
    "    train_examples = image_files[:num_train]\n",
    "    val_examples = image_files[num_train:]\n",
    "\n",
    "    create_tf_record(train_examples, annotations, label_map, CLOUD_ANNOTATIONS_MOUNT, TRAIN_RECORD_PATH)\n",
    "    create_tf_record(val_examples, annotations, label_map, CLOUD_ANNOTATIONS_MOUNT, VAL_RECORD_PATH)"
   ]
  },
  {
   "cell_type": "markdown",
   "metadata": {
    "id": "UXlvFvwUHrui",
    "papermill": {
     "duration": null,
     "end_time": null,
     "exception": null,
     "start_time": null,
     "status": "pending"
    },
    "tags": []
   },
   "source": [
    "# Model config\n",
    "The final thing we need to do is inject our pipline with the amount of labels we have and where to find the label map, TFRecord and model checkpoint. We also need to change the the batch size, because the default batch size of 128 is too large for Colab to handle."
   ]
  },
  {
   "cell_type": "code",
   "execution_count": null,
   "metadata": {
    "id": "C8CVExv6HsJS",
    "papermill": {
     "duration": null,
     "end_time": null,
     "exception": null,
     "start_time": null,
     "status": "pending"
    },
    "tags": []
   },
   "outputs": [],
   "source": [
    "import re\n",
    "\n",
    "from google.protobuf import text_format\n",
    "\n",
    "from object_detection.utils import config_util\n",
    "from object_detection.utils import label_map_util\n",
    "\n",
    "pipeline_skeleton = '/content/models/research/object_detection/samples/configs/'\n",
    "pipeline_skeleton = pipeline_skeleton + 'ssd_mobilenet_v1_quantized_300x300_coco14_sync.config'\n",
    "configs = config_util.get_configs_from_pipeline_file(pipeline_skeleton)\n",
    "\n",
    "label_map = label_map_util.get_label_map_dict(LABEL_MAP_PATH)\n",
    "num_classes = len(label_map.keys())\n",
    "meta_arch = configs[\"model\"].WhichOneof(\"model\")\n",
    "\n",
    "override_dict = {\n",
    "    'model.{}.num_classes'.format(meta_arch): num_classes,\n",
    "    'train_config.batch_size': 24,\n",
    "    'train_input_path': TRAIN_RECORD_PATH,\n",
    "    'eval_input_path': VAL_RECORD_PATH,\n",
    "    'train_config.fine_tune_checkpoint': 'content/checkpoint/model.ckpt',\n",
    "    'label_map_path': LABEL_MAP_PATH\n",
    "}\n",
    "\n",
    "configs = config_util.merge_external_params_with_configs(configs, kwargs_dict=override_dict)\n",
    "pipeline_config = config_util.create_pipeline_proto_from_configs(configs)\n",
    "config_util.save_pipeline_config(pipeline_config, DATA_PATH)"
   ]
  }
 ],
 "metadata": {
  "accelerator": "GPU",
  "colab": {
   "collapsed_sections": [],
   "name": "Copy of Copy of object-detection.ipynb",
   "provenance": [],
   "toc_visible": true
  },
  "kernelspec": {
   "display_name": "Python 3",
   "language": "python",
   "name": "python3"
  },
  "language_info": {
   "codemirror_mode": {
    "name": "ipython",
    "version": 3
   },
   "file_extension": ".py",
   "mimetype": "text/x-python",
   "name": "python",
   "nbconvert_exporter": "python",
   "pygments_lexer": "ipython3",
   "version": "3.6.0"
  },
  "papermill": {
   "default_parameters": {},
   "duration": 7.116884,
   "end_time": "2020-10-29T02:57:23.450841",
   "environment_variables": {},
   "exception": true,
   "input_path": "/Users/niko/Documents/cloud-annotations-elyra/prepare_data.ipynb",
   "output_path": "/Users/niko/Documents/cloud-annotations-elyra/prepare_data.ipynb",
   "parameters": {},
   "start_time": "2020-10-29T02:57:16.333957",
   "version": "2.2.0"
  }
 },
 "nbformat": 4,
 "nbformat_minor": 4
}