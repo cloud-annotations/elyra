{
 "cells": [
  {
   "cell_type": "markdown",
   "metadata": {
    "id": "yVmCc9NPkP3U"
   },
   "source": [
    "# Convert the model\n",
    "Once we have have the TensorFlow graph proto we can use it in Python, but we are going to take it a step further and convert the model to TensorFlow.js so we can use it directly in the browser.\n",
    "\n",
    "The model only detects objects as the IDs in out `label_map.pbtxt` so we also need to create a json list of all of our labels so we can map the ID back to a label."
   ]
  },
  {
   "cell_type": "code",
   "execution_count": null,
   "metadata": {
    "id": "A-f5lfcnp01e"
   },
   "outputs": [],
   "source": [
    "!tensorflowjs_converter \\\n",
    "    --input_format=tf_frozen_model \\\n",
    "    --output_format=tfjs_graph_model \\\n",
    "    --output_node_names='Postprocessor/ExpandDims_1,Postprocessor/Slice' \\\n",
    "    --quantization_bytes=1 \\\n",
    "    --skip_op_check \\\n",
    "    $EXPORTED_PATH/frozen_inference_graph.pb \\\n",
    "    model_web\n",
    "\n",
    "import json\n",
    "\n",
    "from object_detection.utils.label_map_util import get_label_map_dict\n",
    "\n",
    "label_map = get_label_map_dict(LABEL_MAP_PATH)\n",
    "label_array = [k for k in sorted(label_map, key=label_map.get)]\n",
    "\n",
    "with open(os.path.join('model_web', 'labels.json'), 'w') as f:\n",
    "    json.dump(label_array, f)"
   ]
  }
 ],
 "metadata": {
  "accelerator": "GPU",
  "colab": {
   "collapsed_sections": [],
   "name": "Copy of Copy of object-detection.ipynb",
   "provenance": [],
   "toc_visible": true
  },
  "kernelspec": {
   "display_name": "Python 3",
   "language": "python",
   "name": "python3"
  },
  "language_info": {
   "codemirror_mode": {
    "name": "ipython",
    "version": 3
   },
   "file_extension": ".py",
   "mimetype": "text/x-python",
   "name": "python",
   "nbconvert_exporter": "python",
   "pygments_lexer": "ipython3",
   "version": "3.6.0"
  }
 },
 "nbformat": 4,
 "nbformat_minor": 4
}
